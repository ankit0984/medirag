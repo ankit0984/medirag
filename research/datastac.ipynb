{
 "cells": [
  {
   "cell_type": "code",
   "execution_count": null,
   "id": "926a9e43fc12a899",
   "metadata": {
    "ExecuteTime": {
     "end_time": "2025-08-19T21:56:27.465930Z",
     "start_time": "2025-08-19T21:56:25.174692Z"
    }
   },
   "outputs": [
    {
     "data": {
      "text/plain": [
       "'C:\\\\Users\\\\ankit\\\\Desktop\\\\medipyrag'"
      ]
     },
     "execution_count": 1,
     "metadata": {},
     "output_type": "execute_result"
    }
   ],
   "source": [
    "import os\n",
    "os.chdir(\"../\")\n",
    "%pwd"
   ]
  },
  {
   "cell_type": "code",
   "execution_count": 2,
   "id": "ac72dd366b7a5668",
   "metadata": {
    "ExecuteTime": {
     "end_time": "2025-08-19T21:56:28.868409Z",
     "start_time": "2025-08-19T21:56:27.484993Z"
    }
   },
   "outputs": [],
   "source": [
    "# imports of all funtion\n",
    "from pypdf import PdfReader, PdfWriter\n",
    "from langchain.document_loaders import PyPDFLoader, DirectoryLoader\n",
    "from langchain.text_splitter import RecursiveCharacterTextSplitter\n",
    "import warnings\n",
    "import torch\n",
    "import os\n",
    "from typing import List\n",
    "from langchain.schema import Document\n",
    "from langchain_huggingface import HuggingFaceEmbeddings\n",
    "from astrapy import DataAPIClient\n",
    "from astrapy.info import CollectionDefinition, CollectionVectorOptions\n",
    "from astrapy.constants import VectorMetric\n",
    "from astrapy.data.info.vectorize import VectorServiceOptions\n",
    "from langchain_astradb import AstraDBVectorStore\n",
    "from langchain.chains import create_retrieval_chain\n",
    "from langchain_google_genai import ChatGoogleGenerativeAI\n",
    "\n",
    "from langchain.chains.combine_documents import create_stuff_documents_chain\n",
    "from langchain_core.prompts import ChatPromptTemplate\n",
    "from langchain_nvidia_ai_endpoints import ChatNVIDIA\n",
    "from langchain_core.prompts import PromptTemplate\n",
    "from dotenv import load_dotenv\n",
    "warnings.filterwarnings(\"ignore\", category=FutureWarning, module=\"torch\")\n"
   ]
  },
  {
   "metadata": {},
   "cell_type": "code",
   "outputs": [],
   "execution_count": null,
   "source": [
    "import config\n",
    "import json\n",
    "from langchain_core.prompts import ChatPromptTemplate\n",
    "from langchain_google_genai import ChatGoogleGenerativeAI\n",
    "from langchain.chains import create_retrieval_chain\n",
    "from langchain.chains.combine_documents import create_stuff_documents_chain\n",
    "from src.autorag import auto_retriever\n",
    "from langchain_core.pydantic_v1 import BaseModel, Field\n",
    "\n",
    "\n",
    "# ✅ Schema for structured medical response\n",
    "class MedicalResponse(BaseModel):\n",
    "    definition: str = Field(..., description=\"Definition of the disease/condition\")\n",
    "    causes_risk_factors: str = Field(..., description=\"Causes and risk factors\")\n",
    "    symptoms: str = Field(..., description=\"Symptoms of the condition\")\n",
    "    diagnosis: str = Field(..., description=\"Diagnostic methods\")\n",
    "    treatment_cure: str = Field(..., description=\"Treatment or cure\")\n",
    "    prognosis_complications: str = Field(..., description=\"Prognosis and complications\")\n",
    "    prevention_lifestyle: str = Field(..., description=\"Prevention and lifestyle advice\")\n",
    "    additional_notes: str = Field(..., description=\"Any additional notes\")\n",
    "\n",
    "\n",
    "def genllm(question: str = \"What is acne?\", structured: bool = False):\n",
    "    \"\"\"\n",
    "    Generates a medical response.\n",
    "    If structured=True -> returns JSON (all fields from MedicalResponse).\n",
    "    If structured=False -> returns plain text.\n",
    "    \"\"\"\n",
    "\n",
    "    # ✅ Initialize Gemini LLM\n",
    "    llm = ChatGoogleGenerativeAI(\n",
    "        api_key=config.gemini_key,\n",
    "        model=config.gemini_model,\n",
    "        max_retries=2,\n",
    "    )\n",
    "\n",
    "    # ✅ Enforce schema if structured=True\n",
    "    if structured:\n",
    "        llm = llm.with_structured_output(MedicalResponse)\n",
    "\n",
    "    # ✅ Prompt template\n",
    "    prompt_template = ChatPromptTemplate.from_messages(\n",
    "        [\n",
    "            (\n",
    "                \"system\",\n",
    "                \"\"\"\n",
    "You are a highly knowledgeable **medical AI assistant**.\n",
    "Always produce a structured response with ALL sections.\n",
    "\n",
    "If there is no relevant info in the context, write: \"Not available in the provided context.\"\n",
    "                \"\"\",\n",
    "            ),\n",
    "            (\"human\", \"{input}\"),\n",
    "        ]\n",
    "    )\n",
    "\n",
    "    # ✅ Build chain\n",
    "    question_answer_chain = create_stuff_documents_chain(llm, prompt_template)\n",
    "    retrieval_chain = create_retrieval_chain(\n",
    "        retriever=auto_retriever,\n",
    "        combine_docs_chain=question_answer_chain,\n",
    "    )\n",
    "\n",
    "    # ✅ Run\n",
    "    response = retrieval_chain.invoke({\"input\": question})\n",
    "\n",
    "    if structured:\n",
    "        # response[\"answer\"] is already a Pydantic object\n",
    "        return json.loads(response[\"answer\"].json())  # ✅ JSON-safe dict\n",
    "    else:\n",
    "        return {\"answer\": response[\"answer\"]}  # ✅ wrap plain text in JSON-safe dict\n",
    "\n",
    "\n",
    "# ✅ Local test\n",
    "if __name__ == \"__main__\":\n",
    "    print(\"\\n--- Unstructured ---\")\n",
    "    print(genllm(\"treatment of cancer\", structured=False))\n",
    "\n",
    "    print(\"\\n--- Structured ---\")\n",
    "    print(genllm(\"treatment of cancer\", structured=True))\n"
   ],
   "id": "4506e70f6e758f00"
  },
  {
   "cell_type": "code",
   "execution_count": null,
   "id": "c21709834a34c5e",
   "metadata": {},
   "outputs": [],
   "source": [
    "# this block for skip pages if needed otherwise skis one\n",
    "reader=PdfReader(\"data/Medical_book.pdf\")\n",
    "writer=PdfWriter()\n",
    "\n",
    "skip_pages=range(0,14)\n",
    "\n",
    "for i in range(len(reader.pages)):\n",
    "    if i not in skip_pages:\n",
    "        writer.add_page(reader.pages[i])\n",
    "\n",
    "# writer.write(\"data/medical_book_fixed.pdf\")\n",
    "with open(\"data/medical_book_fixed.pdf\", \"wb\") as f:\n",
    "    writer.write(f)\n"
   ]
  },
  {
   "cell_type": "code",
   "execution_count": 3,
   "id": "f336d00a1ca594c7",
   "metadata": {
    "ExecuteTime": {
     "end_time": "2025-08-19T21:56:42.934329Z",
     "start_time": "2025-08-19T21:56:29.238720Z"
    }
   },
   "outputs": [
    {
     "data": {
      "text/plain": [
       "623"
      ]
     },
     "execution_count": 3,
     "metadata": {},
     "output_type": "execute_result"
    }
   ],
   "source": [
    "def load_docs(filepath):\n",
    "    loader = PyPDFLoader(filepath)\n",
    "    docs = loader.load()\n",
    "    return docs\n",
    "ext_docs=load_docs(\"data/medical_book_fixed.pdf\")\n",
    "# ext_docs\n",
    "len(ext_docs)"
   ]
  },
  {
   "cell_type": "code",
   "execution_count": 4,
   "id": "6c8da77ba3484638",
   "metadata": {
    "ExecuteTime": {
     "end_time": "2025-08-19T21:56:42.955541Z",
     "start_time": "2025-08-19T21:56:42.950973Z"
    }
   },
   "outputs": [],
   "source": [
    "def filter_to_minimal_docs(docs: List[Document]) -> List[Document]:\n",
    "    minimal_docs: List[Document] = []\n",
    "    for doc in docs:\n",
    "        src=doc.metadata.get(\"source\")\n",
    "        minimal_docs.append(Document(page_content=doc.page_content, metadata={\"source\": src}))\n",
    "\n",
    "    return minimal_docs\n",
    "    # return [doc for doc in docs if len(doc.page_content) >= min_length]\n",
    "minimal_docs=filter_to_minimal_docs(ext_docs)\n",
    "# minimal_docs"
   ]
  },
  {
   "cell_type": "code",
   "execution_count": 5,
   "id": "3a619d0ddb7244c8",
   "metadata": {
    "ExecuteTime": {
     "end_time": "2025-08-19T21:56:43.016659Z",
     "start_time": "2025-08-19T21:56:42.963263Z"
    }
   },
   "outputs": [
    {
     "data": {
      "text/plain": [
       "3123"
      ]
     },
     "execution_count": 5,
     "metadata": {},
     "output_type": "execute_result"
    }
   ],
   "source": [
    "def text_splitter(minimal_docs):\n",
    "    text_splitter = RecursiveCharacterTextSplitter(chunk_size=1000, chunk_overlap=100)\n",
    "    texts_chunk = text_splitter.split_documents(minimal_docs)\n",
    "    return texts_chunk\n",
    "texts_chunk=text_splitter(minimal_docs)\n",
    "len(texts_chunk)\n",
    "# texts_chunk"
   ]
  },
  {
   "cell_type": "code",
   "execution_count": 6,
   "id": "b59935f298c0d16a",
   "metadata": {
    "ExecuteTime": {
     "end_time": "2025-08-19T21:56:50.512748Z",
     "start_time": "2025-08-19T21:56:43.023182Z"
    }
   },
   "outputs": [
    {
     "name": "stdout",
     "output_type": "stream",
     "text": [
      "NVIDIA GeForce RTX 3050 Laptop GPU\n",
      "Using device: cuda\n"
     ]
    },
    {
     "data": {
      "text/plain": [
       "384"
      ]
     },
     "execution_count": 6,
     "metadata": {},
     "output_type": "execute_result"
    }
   ],
   "source": [
    "def get_embeddings():\n",
    "    # torch.cuda.is_available()\n",
    "    print(torch.cuda.get_device_name(0))\n",
    "    model_name = \"sentence-transformers/all-MiniLM-L6-v2\"\n",
    "    device = \"cuda\" if torch.cuda.is_available() else \"cpu\"\n",
    "    print(f\"Using device: {device}\")\n",
    "    embeddings = HuggingFaceEmbeddings(\n",
    "        model_name=model_name,\n",
    "        model_kwargs={\"device\": device}\n",
    "    )\n",
    "    return embeddings\n",
    "\n",
    "embeddings = get_embeddings()\n",
    "len(embeddings.embed_query(\"Hello world\"))\n"
   ]
  },
  {
   "cell_type": "code",
   "execution_count": 7,
   "id": "13330ead872d74a2",
   "metadata": {
    "ExecuteTime": {
     "end_time": "2025-08-19T21:56:50.531380Z",
     "start_time": "2025-08-19T21:56:50.528251Z"
    }
   },
   "outputs": [],
   "source": [
    "load_dotenv()\n",
    "db_endpoint=os.getenv(\"ASTRADB_ENDPOINT\")\n",
    "db_token=os.getenv(\"ASTRA_TOKEN\")\n",
    "db_keyspace=os.getenv(\"DB_KEYSPACE\")\n",
    "db_collection_name=os.getenv(\"DB_COLLECTION_NAME\")\n"
   ]
  },
  {
   "cell_type": "code",
   "execution_count": 14,
   "id": "c8747fad97c5ac50",
   "metadata": {
    "ExecuteTime": {
     "end_time": "2025-08-19T22:07:10.280062Z",
     "start_time": "2025-08-19T22:07:07.354528Z"
    }
   },
   "outputs": [
    {
     "name": "stdout",
     "output_type": "stream",
     "text": [
      "database connection established database_name: rag, and collection_name=medical_book\n"
     ]
    }
   ],
   "source": [
    "# initialize database\n",
    "client = DataAPIClient(db_token)\n",
    "key_spaces=\"medical_lab\"\n",
    "\n",
    "# Get database reference\n",
    "database = client.get_database(db_endpoint)\n",
    "collection = database.get_collection(db_collection_name)\n",
    "print(f\"database connection established database_name: {database.name()}, and collection_name={collection.name}\")"
   ]
  },
  {
   "cell_type": "code",
   "execution_count": null,
   "id": "d46d58b3c61e48cc",
   "metadata": {},
   "outputs": [],
   "source": []
  },
  {
   "cell_type": "code",
   "execution_count": 15,
   "id": "376e8e3b31ed72c6",
   "metadata": {
    "ExecuteTime": {
     "end_time": "2025-08-19T22:08:05.523564Z",
     "start_time": "2025-08-19T22:08:03.565885Z"
    }
   },
   "outputs": [
    {
     "name": "stdout",
     "output_type": "stream",
     "text": [
      "Collection 'medical_book' already exists\n"
     ]
    }
   ],
   "source": [
    "collection_name = \"medical_book\"\n",
    "model_name = \"sentence-transformers/all-MiniLM-L6-v2\"\n",
    "EMBEDDING_PROVIDER=\"huggingface\"\n",
    "EMBEDDING_MODEL_NAME=embeddings\n",
    "\n",
    "# ✅ Create collection manually (no namespace needed)\n",
    "if collection_name not in database.list_collection_names():\n",
    "    # Define the collection\n",
    "    collection_definition = CollectionDefinition(\n",
    "        vector=CollectionVectorOptions(\n",
    "            metric=VectorMetric.COSINE,\n",
    "            dimension=384,\n",
    "            service=VectorServiceOptions(\n",
    "                provider=\"huggingface\",\n",
    "                model_name=model_name,\n",
    "            )\n",
    "        )\n",
    "    )\n",
    "\n",
    "    collection = database.create_collection(\n",
    "        collection_name,\n",
    "        definition=collection_definition,\n",
    "    )\n",
    "\n",
    "    print(f\"* Collection: {collection.full_name}\\n\")\n",
    "else:\n",
    "    print(f\"Collection '{collection_name}' already exists\")\n"
   ]
  },
  {
   "cell_type": "code",
   "execution_count": 35,
   "id": "e9ce15ad9cd34f64",
   "metadata": {
    "ExecuteTime": {
     "end_time": "2025-08-15T13:59:29.522524Z",
     "start_time": "2025-08-15T13:59:24.889060Z"
    }
   },
   "outputs": [],
   "source": [
    "vstore = AstraDBVectorStore.from_documents(\n",
    "    documents=[],  # start empty\n",
    "    embedding=embeddings,\n",
    "    api_endpoint=db_endpoint,\n",
    "    token=db_token,\n",
    "    collection_name=collection_name,\n",
    "    batch_size=10,\n",
    ")\n",
    "\n",
    "# ✅ Insert documents\n",
    "inserted_ids = vstore.add_documents(texts_chunk)\n",
    "print(f\"Inserted {len(inserted_ids)} documents.\")\n"
   ]
  },
  {
   "cell_type": "code",
   "execution_count": 11,
   "id": "cc2439562c500b95",
   "metadata": {
    "ExecuteTime": {
     "end_time": "2025-08-15T18:54:36.627581Z",
     "start_time": "2025-08-15T18:54:29.205688Z"
    }
   },
   "outputs": [],
   "source": [
    "existing_vstore= AstraDBVectorStore(\n",
    "    api_endpoint=db_endpoint,\n",
    "    token=db_token,\n",
    "    collection_name=collection_name,\n",
    "    embedding=embeddings,\n",
    ")"
   ]
  },
  {
   "cell_type": "code",
   "execution_count": null,
   "id": "2c2d68d8a23b24d4",
   "metadata": {},
   "outputs": [],
   "source": [
    "results = existing_vstore.similarity_search_with_score(\"urine test\", k=3)\n",
    "for doc, score in results:\n",
    "    print(\"Text:\", doc.page_content)\n",
    "    print(\"Score:\", score)\n"
   ]
  },
  {
   "cell_type": "code",
   "execution_count": 15,
   "id": "965e7a5f2f897cc5",
   "metadata": {
    "ExecuteTime": {
     "end_time": "2025-08-15T18:55:56.790248Z",
     "start_time": "2025-08-15T18:55:56.786934Z"
    }
   },
   "outputs": [],
   "source": [
    "retriever=existing_vstore.as_retriever(search_type=\"similarity\", search_kwargs={\"k\": 3})"
   ]
  },
  {
   "cell_type": "code",
   "execution_count": null,
   "id": "d0e620103f201950",
   "metadata": {},
   "outputs": [],
   "source": [
    "retrieved_docs=retriever.invoke(\"What is the treatment of diabetes?\")\n",
    "# retrieved_docs"
   ]
  },
  {
   "cell_type": "markdown",
   "id": "e07baaee18591a48",
   "metadata": {},
   "source": [
    "option1: raw data in output"
   ]
  },
  {
   "cell_type": "code",
   "execution_count": 62,
   "id": "4f791c8ac600f7f1",
   "metadata": {
    "ExecuteTime": {
     "end_time": "2025-08-15T20:57:12.016047Z",
     "start_time": "2025-08-15T20:57:00.195964Z"
    }
   },
   "outputs": [
    {
     "name": "stdout",
     "output_type": "stream",
     "text": [
      "1.  **Definition:**\n",
      "    Acne is a common skin disease characterized by pimples on the face, chest, and back. It occurs when the pores of the skin become clogged with oil (sebum), dead skin cells, and bacteria. The medical term for common acne is Acne vulgaris, and it is the most common skin disease, affecting nearly 17 million people in the United States.\n",
      "\n",
      "2.  **Causes & Risk Factors:**\n",
      "    The exact cause of acne is unknown, but several factors contribute to its development:\n",
      "    *   **Blocked Pores/Hair Follicles:** Pores or hair follicles become blocked, preventing sebum (a waxy material that normally flows out onto the skin and hair) from exiting. This leads to the collection of sebum, bacteria, and dead skin cells inside the pores or follicles.\n",
      "    *   **Bacterial Invasion:** Plugged follicles can be invaded by *Propionibacterium acnes*, a bacteria that normally lives on the skin, leading to inflammation.\n",
      "    *   **Hormonal Changes:** Teenagers are more likely to develop acne due to the hormonal changes they experience.\n",
      "    *   **Gender:** Boys tend to have more severe acne and develop it more often than girls.\n",
      "\n",
      "3.  **Symptoms:**\n",
      "    Acne manifests as various types of skin lesions:\n",
      "    *   **Small Swellings:** Initial formations on the skin surface.\n",
      "    *   **Whiteheads or Blackheads:** Small, non-inflamed swellings.\n",
      "    *   **Pimples:** Inflamed swellings.\n",
      "    *   **Pustules:** Pimples that fill with pus.\n",
      "    *   **Papules:** Inflamed pimples located near the skin's surface.\n",
      "    *   **Nodules:** Hard swellings, representing a more severe type of acne.\n",
      "    *   **Cysts:** Closed sacs, representing the most severe type of acne.\n",
      "    The most common sites for acne are the face, chest, shoulders, and back, as these areas have the highest concentration of sebaceous follicles.\n",
      "\n",
      "4.  **Diagnosis:**\n",
      "    Not available in the provided context. (Diagnosis is implied through the description of symptoms, but no specific diagnostic procedures are mentioned.)\n",
      "\n",
      "5.  **Treatment / Cure:**\n",
      "    Acne cannot be cured, but various drugs can help clear the skin:\n",
      "    *   **Benzoyl Peroxide:** Works by mildly irritating the skin to encourage skin cells to slough off, which helps open blocked pores. It also kills bacteria.\n",
      "    *   **Tretinoin:** Works by mildly irritating the skin to encourage skin cells to slough off, helping to open blocked pores.\n",
      "    *   **Isotretinoin (Accutane):** Prescribed only for very severe, disfiguring acne.\n",
      "\n",
      "6.  **Prognosis / Complications:**\n",
      "    *   Acne cannot be cured, but its symptoms can be managed with medication.\n",
      "    *   **Scarring:** Can occur when new skin cells are laid down to replace damaged cells resulting from severe acne lesions.\n",
      "\n",
      "7.  **Prevention & Lifestyle Advice:**\n",
      "    Not available in the provided context.\n",
      "\n",
      "8.  **Additional Notes:**\n",
      "    *   Acne vulgaris is the medical term for common acne.\n",
      "    *   It is the most common skin disease, affecting nearly 17 million people in the United States.\n",
      "    *   Sebum is a waxy material that normally flows out onto the skin and hair to form a protective coating.\n",
      "    *   *Propionibacterium acnes* is a bacteria that normally lives on the skin and can invade plugged follicles, leading to inflammation.\n"
     ]
    }
   ],
   "source": [
    "import os\n",
    "from langchain_core.prompts import ChatPromptTemplate\n",
    "from langchain_google_genai import ChatGoogleGenerativeAI\n",
    "from langchain.chains.combine_documents import create_stuff_documents_chain\n",
    "from langchain.chains import create_retrieval_chain\n",
    "\n",
    "# ✅ Gemini LLM setup\n",
    "llm = ChatGoogleGenerativeAI(\n",
    "    api_key=os.getenv(\"GEMINI_KEY\"),\n",
    "    model=\"gemini-2.5-flash\",\n",
    "    temperature=0,       # Consistent, structured answers\n",
    "    max_tokens=5000,\n",
    "    max_retries=2,\n",
    ")\n",
    "\n",
    "# ✅ Force all sections\n",
    "prompt_template = ChatPromptTemplate.from_messages(\n",
    "    [\n",
    "        (\n",
    "            \"system\",\n",
    "            \"\"\"\n",
    "You are a highly knowledgeable **medical AI assistant**.\n",
    "You MUST always produce a structured response with ALL sections listed below.\n",
    "If there is no relevant information, explicitly write: \"Not available in the provided context.\"\n",
    "\n",
    "### Response Format (always include ALL 8 headers):\n",
    "1. **Definition:**\n",
    "2. **Causes & Risk Factors:**\n",
    "3. **Symptoms:**\n",
    "4. **Diagnosis:**\n",
    "5. **Treatment / Cure:**\n",
    "6. **Prognosis / Complications:**\n",
    "7. **Prevention & Lifestyle Advice:**\n",
    "8. **Additional Notes:**\n",
    "\n",
    "---\n",
    "**Context:**\n",
    "{context}\n",
    "\n",
    "**Question:**\n",
    "{input}\n",
    "\n",
    "**Structured Medical Response:**\n",
    "\"\"\",\n",
    "        ),\n",
    "        (\"human\", \"Answer the question above in the exact structured format.\"),\n",
    "    ]\n",
    ")\n",
    "\n",
    "# ✅ Build document → LLM chain\n",
    "question_answer_chain = create_stuff_documents_chain(llm, prompt_template)\n",
    "\n",
    "# ✅ Retrieval chain\n",
    "retrieval_chains = create_retrieval_chain(\n",
    "    retriever=retriever,\n",
    "    combine_docs_chain=question_answer_chain,\n",
    ")\n",
    "\n",
    "# ✅ Run test\n",
    "response = retrieval_chains.invoke({\"input\": \"What is acne?\"})\n",
    "print(response[\"answer\"])\n"
   ]
  },
  {
   "cell_type": "markdown",
   "id": "2eefb17dee889512",
   "metadata": {},
   "source": [
    "option 2: structured output"
   ]
  },
  {
   "cell_type": "code",
   "execution_count": 68,
   "id": "d90c64e999f2ba1a",
   "metadata": {
    "ExecuteTime": {
     "end_time": "2025-08-15T21:06:12.052972Z",
     "start_time": "2025-08-15T21:06:02.654473Z"
    }
   },
   "outputs": [
    {
     "name": "stdout",
     "output_type": "stream",
     "text": [
      "response = {\n",
      "  \"definition\": \"Acne is a common skin disease characterized by pimples on the face, chest, and back. It occurs when the pores of the skin become clogged with oil, dead skin cells, and bacteria.\",\n",
      "  \"causes_risk_factors\": [\n",
      "    \"The exact cause of acne is unknown.\",\n",
      "    \"Age: Due to hormonal changes, teenagers are more likely to develop acne.\",\n",
      "    \"Gender: Boys have more severe acne and develop it more often than girls.\",\n",
      "    \"Pores or hair follicles become blocked, allowing sebum to collect inside.\",\n",
      "    \"Bacteria and dead skin cells can collect, causing inflammation.\",\n",
      "    \"Plugged follicle is invaded by Propionibacterium acnes, a bacteria that normally lives on the skin.\",\n",
      "    \"A pimple forms when the damaged follicle weakens and bursts open, releasing sebum, bacteria, and skin and white blood cells into the surrounding tissues.\"\n",
      "  ],\n",
      "  \"symptoms\": [\n",
      "    \"Small swellings on the skin surface.\",\n",
      "    \"Whiteheads or blackheads (small, not inflamed swellings).\",\n",
      "    \"Pimples (inflamed swellings).\",\n",
      "    \"Pustules (pimples that fill with pus).\",\n",
      "    \"Papules (inflamed pimples near the skin\\u2019s surface).\",\n",
      "    \"Cysts (closed sacs) and nodules (hard swellings) in severe cases.\"\n",
      "  ],\n",
      "  \"diagnosis\": [\n",
      "    \"Not available in the provided context.\"\n",
      "  ],\n",
      "  \"treatment_cure\": [\n",
      "    \"Acne cannot be cured, but acne drugs can help clear the skin.\",\n",
      "    \"Benzoyl peroxide and tretinoin: Work by mildly irritating the skin, encouraging skin cells to slough off, which helps open blocked pores.\",\n",
      "    \"Benzoyl peroxide also kills bacteria, helping prevent whiteheads and blackheads from turning into pimples.\",\n",
      "    \"Isotretinoin (Accutane): Prescribed only for very severe, disfiguring acne.\"\n",
      "  ],\n",
      "  \"prognosis_complications\": [\n",
      "    \"Scarring occurs when new skin cells are laid down to replace damaged cells.\"\n",
      "  ],\n",
      "  \"prevention_lifestyle\": [\n",
      "    \"Not available in the provided context.\"\n",
      "  ],\n",
      "  \"additional_notes\": [\n",
      "    \"Acne vulgaris, the medical term for common acne, is the most common skin disease. It affects nearly 17 million people in the United States.\",\n",
      "    \"Normally, sebum flows out onto the skin and hair to form a protective coating, but when it cannot get out, small swellings develop on the skin surface.\",\n",
      "    \"The most common sites of acne are the face, chest, shoulders, and back since these are the parts of the body where the most sebaceous follicles are found.\"\n",
      "  ]\n",
      "}\n"
     ]
    }
   ],
   "source": [
    "import os\n",
    "from langchain_core.pydantic_v1 import BaseModel, Field\n",
    "from langchain_google_genai import ChatGoogleGenerativeAI\n",
    "from langchain_core.prompts import ChatPromptTemplate\n",
    "from typing import List\n",
    "\n",
    "# --------- Define Schema ----------\n",
    "\n",
    "class MedicalResponse(BaseModel):\n",
    "    definition: str = Field(..., description=\"Brief definition of the condition.\")\n",
    "    causes_risk_factors: List[str] = Field(..., description=\"Causes and risk factors as a list.\")\n",
    "    symptoms: List[str] = Field(..., description=\"List of symptoms.\")\n",
    "    diagnosis: List[str] = Field(..., description=\"Diagnostic methods.\")\n",
    "    treatment_cure: List[str] = Field(..., description=\"Treatment or cure methods.\")\n",
    "    prognosis_complications: List[str] = Field(..., description=\"Prognosis and possible complications.\")\n",
    "    prevention_lifestyle: List[str] = Field(..., description=\"Prevention and lifestyle advice.\")\n",
    "    additional_notes: List[str] = Field(..., description=\"Additional notes.\")\n",
    "\n",
    "# --------- Initialize Gemini ----------\n",
    "llm = ChatGoogleGenerativeAI(\n",
    "    api_key=os.getenv(\"GEMINI_KEY\"),\n",
    "    model=\"gemini-2.5-flash\",\n",
    "    temperature=0,\n",
    "    max_tokens=5000,\n",
    ")\n",
    "\n",
    "# ✅ Wrap LLM with structured output\n",
    "structured_llm = llm.with_structured_output(MedicalResponse)\n",
    "\n",
    "# --------- Retrieval Prompt ----------\n",
    "prompt = ChatPromptTemplate.from_template(\"\"\"\n",
    "You are a medical AI assistant.\n",
    "Use the following retrieved context to answer the question in a structured way.\n",
    "If information is missing, respond with \"Not available in the provided context.\"\n",
    "\n",
    "Context:\n",
    "{context}\n",
    "\n",
    "Question:\n",
    "{question}\n",
    "\"\"\")\n",
    "\n",
    "# --------- Build Retrieval Chain ----------\n",
    "class RetrievalChain:\n",
    "    def __init__(self, retriever):\n",
    "        self.retriever = retriever\n",
    "\n",
    "    def invoke(self, question: str) -> MedicalResponse:\n",
    "        # Step 1: retrieve docs\n",
    "        docs = self.retriever.get_relevant_documents(question)\n",
    "        context_text = \"\\n\\n\".join([d.page_content for d in docs])\n",
    "\n",
    "        # Step 2: format prompt\n",
    "        formatted_prompt = prompt.format(context=context_text, question=question)\n",
    "\n",
    "        # Step 3: structured LLM call → returns MedicalResponse\n",
    "        return structured_llm.invoke(formatted_prompt)\n",
    "\n",
    "# --------- Example Usage ----------\n",
    "retrieval_chain = RetrievalChain(retriever)\n",
    "\n",
    "response = retrieval_chain.invoke(\"What is acne?\")\n",
    "# print(response)\n",
    "print(f\"response = {response.json(indent=2)}\")  # Pretty JSON\n"
   ]
  }
 ],
 "metadata": {
  "kernelspec": {
   "display_name": ".Venv",
   "language": "python",
   "name": "python3"
  },
  "language_info": {
   "codemirror_mode": {
    "name": "ipython",
    "version": 2
   },
   "file_extension": ".py",
   "mimetype": "text/x-python",
   "name": "python",
   "nbconvert_exporter": "python",
   "pygments_lexer": "ipython2",
   "version": "3.13.6"
  }
 },
 "nbformat": 4,
 "nbformat_minor": 5
}
